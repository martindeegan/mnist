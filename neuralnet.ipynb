{
 "cells": [
  {
   "cell_type": "code",
   "execution_count": 1,
   "metadata": {},
   "outputs": [],
   "source": [
    "import numpy as np\n",
    "import math\n",
    "import sklearn.preprocessing\n"
   ]
  },
  {
   "cell_type": "code",
   "execution_count": null,
   "metadata": {},
   "outputs": [],
   "source": []
  },
  {
   "cell_type": "code",
   "execution_count": 2,
   "metadata": {},
   "outputs": [
    {
     "name": "stdout",
     "output_type": "stream",
     "text": [
      "(42000,)\n",
      "(42000, 784)\n"
     ]
    }
   ],
   "source": [
    "from numpy import genfromtxt\n",
    "my_data = genfromtxt('train.csv', delimiter=',')  \n",
    "my_data = my_data[1:]\n",
    "labels = my_data[:,0]\n",
    "images = my_data[:,1:]\n",
    "print(labels.shape)\n",
    "print(images.shape)"
   ]
  },
  {
   "cell_type": "code",
   "execution_count": null,
   "metadata": {},
   "outputs": [],
   "source": []
  },
  {
   "cell_type": "code",
   "execution_count": 3,
   "metadata": {},
   "outputs": [],
   "source": [
    "images /= 255"
   ]
  },
  {
   "cell_type": "code",
   "execution_count": 4,
   "metadata": {},
   "outputs": [],
   "source": [
    "test_images = images[0:4200]\n",
    "test_labels = labels[0:4200]"
   ]
  },
  {
   "cell_type": "code",
   "execution_count": 5,
   "metadata": {},
   "outputs": [],
   "source": [
    "train_images = images[4200:]\n",
    "train_labels = labels[4200:]"
   ]
  },
  {
   "cell_type": "code",
   "execution_count": 6,
   "metadata": {},
   "outputs": [],
   "source": [
    "test_labels_one_hot = np.zeros([4200,10])\n",
    "train_labels_one_hot = np.zeros([4200,10])"
   ]
  },
  {
   "cell_type": "code",
   "execution_count": 7,
   "metadata": {},
   "outputs": [],
   "source": [
    "label_binarizer = sklearn.preprocessing.LabelBinarizer()\n",
    "label_binarizer.fit(range(max(test_labels.astype(np.int))+1))\n",
    "test_labels_one_hot = label_binarizer.transform(test_labels).astype(np.float32)\n",
    "train_labels_one_hot = label_binarizer.transform(train_labels).astype(np.float32)"
   ]
  },
  {
   "cell_type": "code",
   "execution_count": 8,
   "metadata": {},
   "outputs": [
    {
     "name": "stdout",
     "output_type": "stream",
     "text": [
      "(4200, 784)\n",
      "(4200, 10)\n",
      "(37800, 784)\n",
      "(37800, 10)\n"
     ]
    }
   ],
   "source": [
    "print(test_images.shape)\n",
    "print(test_labels_one_hot.shape)\n",
    "print(train_images.shape)\n",
    "print(train_labels_one_hot.shape)"
   ]
  },
  {
   "cell_type": "code",
   "execution_count": 9,
   "metadata": {},
   "outputs": [
    {
     "name": "stdout",
     "output_type": "stream",
     "text": [
      "[ 0.  0.  0.  0.  0.  0.  0.  1.  0.  0.]\n",
      "[ 0.  0.  0.  0.  0.  0.  0.  1.  0.  0.]\n",
      "[ 0.  1.  0.  0.  0.  0.  0.  0.  0.  0.]\n"
     ]
    }
   ],
   "source": [
    "print(train_labels_one_hot[0])\n",
    "print(train_labels_one_hot[1])\n",
    "print(train_labels_one_hot[2])"
   ]
  },
  {
   "cell_type": "code",
   "execution_count": null,
   "metadata": {},
   "outputs": [],
   "source": []
  },
  {
   "cell_type": "code",
   "execution_count": null,
   "metadata": {},
   "outputs": [],
   "source": [
    "\n",
    "\n",
    "\n",
    "\n",
    "\n",
    "\n"
   ]
  },
  {
   "cell_type": "code",
   "execution_count": null,
   "metadata": {},
   "outputs": [],
   "source": []
  },
  {
   "cell_type": "code",
   "execution_count": null,
   "metadata": {},
   "outputs": [],
   "source": []
  },
  {
   "cell_type": "code",
   "execution_count": 10,
   "metadata": {},
   "outputs": [
    {
     "ename": "NameError",
     "evalue": "name 'b' is not defined",
     "output_type": "error",
     "traceback": [
      "\u001b[0;31m---------------------------------------------------------------------------\u001b[0m",
      "\u001b[0;31mNameError\u001b[0m                                 Traceback (most recent call last)",
      "\u001b[0;32m<ipython-input-10-89e6c98d9288>\u001b[0m in \u001b[0;36m<module>\u001b[0;34m()\u001b[0m\n\u001b[0;32m----> 1\u001b[0;31m \u001b[0mb\u001b[0m\u001b[0;34m\u001b[0m\u001b[0m\n\u001b[0m",
      "\u001b[0;31mNameError\u001b[0m: name 'b' is not defined"
     ]
    }
   ],
   "source": [
    "b"
   ]
  },
  {
   "cell_type": "code",
   "execution_count": 21,
   "metadata": {},
   "outputs": [],
   "source": [
    "def compute_layer(W, b, x):\n",
    "    return np.matmul(W,x) + b"
   ]
  },
  {
   "cell_type": "code",
   "execution_count": 22,
   "metadata": {},
   "outputs": [],
   "source": [
    "def sigmoid(z):\n",
    "    return 1/(1 + np.exp(-1 * z))"
   ]
  },
  {
   "cell_type": "code",
   "execution_count": 23,
   "metadata": {},
   "outputs": [],
   "source": [
    "def loss(a, y):\n",
    "    return -(np.multiply(y,np.log(a)) + np.multiply((1 - y),np.log(1 - a)))"
   ]
  },
  {
   "cell_type": "code",
   "execution_count": 24,
   "metadata": {},
   "outputs": [],
   "source": [
    "def cost(results):\n",
    "    m = results.shape[0]\n",
    "    return 1/m * results.sum(axis=0)"
   ]
  },
  {
   "cell_type": "markdown",
   "metadata": {},
   "source": [
    "$J(W,b) = \\frac{1}{m} \\sum loss_i$"
   ]
  },
  {
   "cell_type": "code",
   "execution_count": 161,
   "metadata": {},
   "outputs": [],
   "source": [
    "\n",
    "results = np.ndarray([10,10])\n",
    "for i in range(10):\n",
    "    z = compute_layer(W, b, train_images[i])\n",
    "    y_hat = sigmoid(z)\n",
    "    results[i] = y_hat"
   ]
  },
  {
   "cell_type": "code",
   "execution_count": 162,
   "metadata": {},
   "outputs": [],
   "source": [
    "losses = np.ndarray([10,10])\n",
    "for i in range(10):\n",
    "    losses[i] = loss(results[i], train_labels_one_hot[i])"
   ]
  },
  {
   "cell_type": "code",
   "execution_count": 163,
   "metadata": {},
   "outputs": [],
   "source": [
    "costs = cost(losses)"
   ]
  },
  {
   "cell_type": "code",
   "execution_count": 164,
   "metadata": {},
   "outputs": [
    {
     "data": {
      "text/plain": [
       "array([ 0.68293351,  0.71871   ,  0.71057105,  0.66928756,  0.68944609,\n",
       "        0.67641162,  0.69804161,  0.68635451,  0.71139254,  0.69239997])"
      ]
     },
     "execution_count": 164,
     "metadata": {},
     "output_type": "execute_result"
    }
   ],
   "source": [
    "costs"
   ]
  },
  {
   "cell_type": "code",
   "execution_count": 152,
   "metadata": {},
   "outputs": [],
   "source": [
    "gradientW = np.zeros(W.shape)\n",
    "learning_rate = 0.1\n",
    "num_batches = 100\n",
    "batch_size = 10"
   ]
  },
  {
   "cell_type": "code",
   "execution_count": 155,
   "metadata": {},
   "outputs": [],
   "source": [
    "batches = np.ndarray([num_batches,batch_size,784])\n",
    "label_batches = np.ndarray([num_batches,batch_size,10])"
   ]
  },
  {
   "cell_type": "code",
   "execution_count": 25,
   "metadata": {},
   "outputs": [],
   "source": [
    "import random"
   ]
  },
  {
   "cell_type": "code",
   "execution_count": 125,
   "metadata": {},
   "outputs": [],
   "source": [
    "def make_batches(num_batches, batch_size, train_images, train_labels):\n",
    "    batch_images = np.ndarray([num_batches, batch_size, 784])\n",
    "    batch_labels = np.ndarray([num_batches, batch_size, 10])\n",
    "    for i in range(num_batches):\n",
    "        for j in range(batch_size):\n",
    "            k = random.randint(0,30000)\n",
    "            batch_images[i,j] = train_images[k]\n",
    "            batch_labels[i,j] = train_labels[k]\n",
    "    return (batch_images, batch_labels)"
   ]
  },
  {
   "cell_type": "code",
   "execution_count": 136,
   "metadata": {},
   "outputs": [],
   "source": [
    "def train_1_layer_batchs(W, b, batch_images, batch_labels, learning_rate):\n",
    "    num_batches = batch_images.shape[0]\n",
    "    batch_size = batch_images.shape[1]\n",
    "    W_updated = W\n",
    "    b_updated = b\n",
    "    for i in range(num_batches):\n",
    "        imgs = batch_images[i]\n",
    "        lbls = batch_labels[i]\n",
    "        costs = np.ndarray([10])\n",
    "        dw = np.ndarray([10,784])\n",
    "        for j in range(batch_size):\n",
    "            x = imgs[j]\n",
    "            y = lbls[j]\n",
    "            z = compute_layer(W_updated, b_updated, x)\n",
    "            a = sigmoid(z)\n",
    "            costs += a - y\n",
    "            dw += np.tile(x, (10,1))\n",
    "        # Compute Gradient\n",
    "        m = batch_size\n",
    "        costs = costs / m\n",
    "        dw = dw\n",
    "        dw = np.multiply(np.tile(costs, (784,1)).transpose(), dw)\n",
    "        db = costs\n",
    "        # Backprop\n",
    "        W_updated = W_updated - learning_rate * dw\n",
    "        b_updated = b_updated - learning_rate * db\n",
    "        return (W_updated,b_updated)"
   ]
  },
  {
   "cell_type": "code",
   "execution_count": 137,
   "metadata": {},
   "outputs": [],
   "source": [
    "def test_model(W,b,test_images, test_labels):\n",
    "    num_correct = 0\n",
    "    num_tested = 0\n",
    "    for i in range(test_images.shape[0]):\n",
    "        img = test_images[i]\n",
    "        lbl = test_labels[i]\n",
    "        z = compute_layer(W, b, img)\n",
    "        a = sigmoid(z)\n",
    "        num_tested += 1\n",
    "        if(np.argmax(a) == np.argmax(lbl)):\n",
    "            num_correct += 1\n",
    "    accuracy = num_correct / num_tested\n",
    "    print(\"Accuracy: \" + str(accuracy))"
   ]
  },
  {
   "cell_type": "code",
   "execution_count": 138,
   "metadata": {},
   "outputs": [
    {
     "name": "stdout",
     "output_type": "stream",
     "text": [
      "Accuracy: 0.10428571428571429\n"
     ]
    }
   ],
   "source": [
    "W = np.random.uniform(-0.01,0.01,size=[10,784])\n",
    "b = np.zeros([10])\n",
    "test_model(W,b,test_images,test_labels_one_hot)"
   ]
  },
  {
   "cell_type": "code",
   "execution_count": 139,
   "metadata": {},
   "outputs": [],
   "source": [
    "(imgs, lbls) = make_batches(10000, 10, train_images, train_labels_one_hot)"
   ]
  },
  {
   "cell_type": "code",
   "execution_count": 140,
   "metadata": {},
   "outputs": [],
   "source": [
    "(W,b) = train_1_layer_batchs(W, b, imgs, lbls, 0.005)"
   ]
  },
  {
   "cell_type": "code",
   "execution_count": 141,
   "metadata": {},
   "outputs": [
    {
     "name": "stdout",
     "output_type": "stream",
     "text": [
      "Accuracy: 0.10119047619047619\n"
     ]
    }
   ],
   "source": [
    "test_model(W,b,test_images,test_labels_one_hot)"
   ]
  },
  {
   "cell_type": "markdown",
   "metadata": {},
   "source": [
    "$w:w - a(dJ/dw)$\n",
    "$\\partial J/\\partial dw = dJ/d$"
   ]
  },
  {
   "cell_type": "code",
   "execution_count": 128,
   "metadata": {},
   "outputs": [],
   "source": [
    "def train_1_layer(W, b, images, labels, learning_rate):\n",
    "    W_updated = W\n",
    "    b_updated = b\n",
    "    num_samples = images.shape[0]\n",
    "    for i in range(num_samples):\n",
    "        x = images[i]\n",
    "        y = labels[i]\n",
    "        z = compute_layer(W_updated, b_updated, x)\n",
    "        a = sigmoid(z)\n",
    "        l = loss(a, y)\n",
    "        dw_l = np.tile(x, (10,1))\n",
    "        dz = a - y\n",
    "        dz_w = np.tile(dz, (784,1)).transpose()\n",
    "        dw = np.multiply(dz_w, dw_l)\n",
    "        W_updated = W_updated - learning_rate * dw\n",
    "        db = dz\n",
    "        b_updated = b_updated - learning_rate * db\n",
    "    return (W_updated, b_updated)"
   ]
  },
  {
   "cell_type": "code",
   "execution_count": 116,
   "metadata": {},
   "outputs": [],
   "source": [
    "W = np.random.uniform(-0.01,0.01,size=[10,784])\n",
    "b = np.zeros([10])"
   ]
  },
  {
   "cell_type": "code",
   "execution_count": 117,
   "metadata": {},
   "outputs": [
    {
     "name": "stdout",
     "output_type": "stream",
     "text": [
      "Accuracy: 0.06285714285714286\n"
     ]
    }
   ],
   "source": [
    "test_model(W,b,test_images,test_labels_one_hot)"
   ]
  },
  {
   "cell_type": "code",
   "execution_count": 122,
   "metadata": {},
   "outputs": [],
   "source": [
    "(W,b) = train_1_layer(W, b, train_images, train_labels_one_hot, 0.005)"
   ]
  },
  {
   "cell_type": "code",
   "execution_count": 123,
   "metadata": {},
   "outputs": [
    {
     "name": "stdout",
     "output_type": "stream",
     "text": [
      "Accuracy: 0.9064285714285715\n"
     ]
    }
   ],
   "source": [
    " test_model(W,b,test_images,test_labels_one_hot)"
   ]
  },
  {
   "cell_type": "code",
   "execution_count": null,
   "metadata": {},
   "outputs": [],
   "source": []
  },
  {
   "cell_type": "code",
   "execution_count": 146,
   "metadata": {},
   "outputs": [],
   "source": [
    "def train_2_layer(W1, b1, W2, b2 images, labels, learning_rate):\n",
    "    W_updated = W\n",
    "    b_updated = b\n",
    "    num_samples = images.shape[0]\n",
    "    for i in range(num_samples):\n",
    "        x = images[i]\n",
    "        y = labels[i]\n",
    "        z1 = compute_layer(W1, b1, x)\n",
    "        a1 = sigmoid(z1)\n",
    "        z2 = compute_layer(W2, b2, a1)\n",
    "        a2 = sigmoid(z2)\n",
    "        l = loss(a2, y)\n",
    "        dw1_l = np.tile(x, (10,1))\n",
    "        dz = a - y\n",
    "        dz_w = np.tile(dz, (784,1)).transpose()\n",
    "        dw = np.multiply(dz_w, dw_l)\n",
    "        W_updated = W_updated - learning_rate * dw\n",
    "        db = dz\n",
    "        b_updated = b_updated - learning_rate * db\n",
    "    return (W_updated, b_updated)"
   ]
  },
  {
   "cell_type": "code",
   "execution_count": 153,
   "metadata": {},
   "outputs": [],
   "source": [
    "def test_model_2_layer(W1, b1, W2, b2, test_images, test_labels):\n",
    "    num_correct = 0\n",
    "    num_tested = 0\n",
    "    for i in range(test_images.shape[0]):\n",
    "        img = test_images[i]\n",
    "        lbl = test_labels[i]\n",
    "        z1 = compute_layer(W1, b1, img)\n",
    "        a1 = sigmoid(z1)\n",
    "        z2 = compute_layer(W2, b2, a1)\n",
    "        a = sigmoid(z2)\n",
    "        num_tested += 1\n",
    "        if(np.argmax(a) == np.argmax(lbl)):\n",
    "            num_correct += 1\n",
    "    accuracy = num_correct / num_tested\n",
    "    print(\"Accuracy: \" + str(accuracy))"
   ]
  },
  {
   "cell_type": "code",
   "execution_count": 154,
   "metadata": {},
   "outputs": [
    {
     "name": "stdout",
     "output_type": "stream",
     "text": [
      "Accuracy: 0.10809523809523809\n"
     ]
    }
   ],
   "source": [
    "W1 = np.random.uniform(-0.01,0.01,size=[100,784])\n",
    "b1 = np.zeros([100])\n",
    "W2 = np.random.uniform(-0.01,0.01,size=[10,100])\n",
    "b2 = np.zeros([10])\n",
    "test_model_2_layer(W1,b1,W2,b2,test_images,test_labels_one_hot)"
   ]
  },
  {
   "cell_type": "code",
   "execution_count": null,
   "metadata": {},
   "outputs": [],
   "source": []
  }
 ],
 "metadata": {
  "kernelspec": {
   "display_name": "Python 3",
   "language": "python",
   "name": "python3"
  },
  "language_info": {
   "codemirror_mode": {
    "name": "ipython",
    "version": 3
   },
   "file_extension": ".py",
   "mimetype": "text/x-python",
   "name": "python",
   "nbconvert_exporter": "python",
   "pygments_lexer": "ipython3",
   "version": "3.6.2"
  }
 },
 "nbformat": 4,
 "nbformat_minor": 2
}
